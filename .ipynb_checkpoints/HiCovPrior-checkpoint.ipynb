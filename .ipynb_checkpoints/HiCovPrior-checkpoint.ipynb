{
 "metadata": {
  "name": "",
  "signature": "sha256:bc652753c0da844f7e661d41640344f7faf92319303b59459c48141dc3860a6a"
 },
 "nbformat": 3,
 "nbformat_minor": 0,
 "worksheets": [
  {
   "cells": [
    {
     "cell_type": "code",
     "collapsed": false,
     "input": [
      "%pylab inline"
     ],
     "language": "python",
     "metadata": {},
     "outputs": [
      {
       "output_type": "stream",
       "stream": "stdout",
       "text": [
        "Populating the interactive namespace from numpy and matplotlib\n"
       ]
      }
     ],
     "prompt_number": 1
    },
    {
     "cell_type": "heading",
     "level": 4,
     "metadata": {},
     "source": [
      "Port Hierarchical Covariates with Prior from Matlab to Python"
     ]
    },
    {
     "cell_type": "code",
     "collapsed": false,
     "input": [
      "from pandas import DataFrame, read_csv"
     ],
     "language": "python",
     "metadata": {},
     "outputs": [],
     "prompt_number": 3
    },
    {
     "cell_type": "code",
     "collapsed": false,
     "input": [
      "import numpy as np"
     ],
     "language": "python",
     "metadata": {},
     "outputs": [],
     "prompt_number": 1
    },
    {
     "cell_type": "code",
     "collapsed": false,
     "input": [
      "metadata = read_csv('/Users/boyko/Dropbox (ACE Lab)/RNA Seq data (1)/master_list_for_project.csv',index_col=0)\n",
      "covariates = metadata[['blood_draw_age_months','random_val','plate_id','plate_num','sex','numerical_class']].copy()\n",
      "males = (covariates['sex'] == 'M')\n",
      "covariates.ix[males,'sex'] = +1\n",
      "covariates.ix[~males,'sex'] = -1\n",
      "covariates = covariates.astype('float')\n",
      "covariates.head()"
     ],
     "language": "python",
     "metadata": {},
     "outputs": [
      {
       "html": [
        "<div style=\"max-height:1000px;max-width:1500px;overflow:auto;\">\n",
        "<table border=\"1\" class=\"dataframe\">\n",
        "  <thead>\n",
        "    <tr style=\"text-align: right;\">\n",
        "      <th></th>\n",
        "      <th>blood_draw_age_months</th>\n",
        "      <th>random_val</th>\n",
        "      <th>plate_id</th>\n",
        "      <th>plate_num</th>\n",
        "      <th>sex</th>\n",
        "      <th>numerical_class</th>\n",
        "    </tr>\n",
        "    <tr>\n",
        "      <th>library</th>\n",
        "      <th></th>\n",
        "      <th></th>\n",
        "      <th></th>\n",
        "      <th></th>\n",
        "      <th></th>\n",
        "      <th></th>\n",
        "    </tr>\n",
        "  </thead>\n",
        "  <tbody>\n",
        "    <tr>\n",
        "      <th>SL32612</th>\n",
        "      <td> 29.832</td>\n",
        "      <td> 0.933855</td>\n",
        "      <td> 2157</td>\n",
        "      <td> 1</td>\n",
        "      <td> 1</td>\n",
        "      <td> 2</td>\n",
        "    </tr>\n",
        "    <tr>\n",
        "      <th>SL32613</th>\n",
        "      <td> 35.450</td>\n",
        "      <td> 0.563526</td>\n",
        "      <td> 2157</td>\n",
        "      <td> 2</td>\n",
        "      <td> 1</td>\n",
        "      <td> 1</td>\n",
        "    </tr>\n",
        "    <tr>\n",
        "      <th>SL32614</th>\n",
        "      <td> 24.838</td>\n",
        "      <td> 0.687425</td>\n",
        "      <td> 2157</td>\n",
        "      <td> 3</td>\n",
        "      <td> 1</td>\n",
        "      <td> 1</td>\n",
        "    </tr>\n",
        "    <tr>\n",
        "      <th>SL32615</th>\n",
        "      <td> 19.023</td>\n",
        "      <td> 0.503901</td>\n",
        "      <td> 2157</td>\n",
        "      <td> 4</td>\n",
        "      <td> 1</td>\n",
        "      <td> 1</td>\n",
        "    </tr>\n",
        "    <tr>\n",
        "      <th>SL32616</th>\n",
        "      <td> 27.499</td>\n",
        "      <td> 0.423421</td>\n",
        "      <td> 2157</td>\n",
        "      <td> 5</td>\n",
        "      <td> 1</td>\n",
        "      <td> 1</td>\n",
        "    </tr>\n",
        "  </tbody>\n",
        "</table>\n",
        "</div>"
       ],
       "metadata": {},
       "output_type": "pyout",
       "prompt_number": 4,
       "text": [
        "         blood_draw_age_months  random_val  plate_id  plate_num  sex  \\\n",
        "library                                                                \n",
        "SL32612                 29.832    0.933855      2157          1    1   \n",
        "SL32613                 35.450    0.563526      2157          2    1   \n",
        "SL32614                 24.838    0.687425      2157          3    1   \n",
        "SL32615                 19.023    0.503901      2157          4    1   \n",
        "SL32616                 27.499    0.423421      2157          5    1   \n",
        "\n",
        "         numerical_class  \n",
        "library                   \n",
        "SL32612                2  \n",
        "SL32613                1  \n",
        "SL32614                1  \n",
        "SL32615                1  \n",
        "SL32616                1  "
       ]
      }
     ],
     "prompt_number": 4
    },
    {
     "cell_type": "code",
     "collapsed": false,
     "input": [
      "cd /Users/boyko/Dropbox (ACE Lab)/RNA Seq data (1)/sailfish/2157/"
     ],
     "language": "python",
     "metadata": {},
     "outputs": [
      {
       "output_type": "stream",
       "stream": "stdout",
       "text": [
        "/Users/boyko/Dropbox (ACE Lab)/ASD_Signature/sailfish/2157\n"
       ]
      }
     ],
     "prompt_number": 3
    },
    {
     "cell_type": "code",
     "collapsed": false,
     "input": [
      "from glob import iglob\n",
      "\n",
      "rpkm_sum = {}\n",
      "kpkm_sum = {}\n",
      "\n",
      "expr = pd.DataFrame()\n",
      "TPM_RPKM = pd.DataFrame()\n",
      "TPM_KPKM = pd.DataFrame()\n",
      "\n",
      "for sail_file in iglob('2157_rRNAminus_index/quant_files/*.sf'):\n",
      "    df = pd.read_csv(sail_file,sep='\\t',skiprows=4,index_col=0)\n",
      "    lib = sail_file.split(\"/\")[-1].split(\"_\")[0]\n",
      "    expr[lib] = df['TPM']\n",
      "    rpkm_sum[lib] = sum(df['RPKM'])\n",
      "    kpkm_sum[lib] = sum(df['KPKM'])\n",
      "    TPM_RPKM[lib] = df['TPM'] - df['RPKM'] * 10**6 / rpkm_sum[lib]\n",
      "    TPM_KPKM[lib] = df['TPM'] - df['KPKM'] * 10**6 / kpkm_sum[lib]"
     ],
     "language": "python",
     "metadata": {},
     "outputs": [],
     "prompt_number": 4
    },
    {
     "cell_type": "code",
     "collapsed": false,
     "input": [
      "expr.index.name = 'ENST_ID'\n",
      "expr.head()"
     ],
     "language": "python",
     "metadata": {},
     "outputs": [
      {
       "html": [
        "<div style=\"max-height:1000px;max-width:1500px;overflow:auto;\">\n",
        "<table border=\"1\" class=\"dataframe\">\n",
        "  <thead>\n",
        "    <tr style=\"text-align: right;\">\n",
        "      <th></th>\n",
        "      <th>SL32612</th>\n",
        "      <th>SL32613</th>\n",
        "      <th>SL32614</th>\n",
        "      <th>SL32615</th>\n",
        "      <th>SL32616</th>\n",
        "      <th>SL32617</th>\n",
        "      <th>SL32618</th>\n",
        "      <th>SL32619</th>\n",
        "      <th>SL32620</th>\n",
        "      <th>SL32621</th>\n",
        "      <th>SL32622</th>\n",
        "      <th>SL32623</th>\n",
        "      <th>SL32624</th>\n",
        "      <th>SL32625</th>\n",
        "      <th>SL32626</th>\n",
        "      <th>SL32627</th>\n",
        "      <th>SL32628</th>\n",
        "      <th>SL32629</th>\n",
        "      <th>SL32630</th>\n",
        "      <th>SL32631</th>\n",
        "      <th></th>\n",
        "    </tr>\n",
        "    <tr>\n",
        "      <th>ENST_ID</th>\n",
        "      <th></th>\n",
        "      <th></th>\n",
        "      <th></th>\n",
        "      <th></th>\n",
        "      <th></th>\n",
        "      <th></th>\n",
        "      <th></th>\n",
        "      <th></th>\n",
        "      <th></th>\n",
        "      <th></th>\n",
        "      <th></th>\n",
        "      <th></th>\n",
        "      <th></th>\n",
        "      <th></th>\n",
        "      <th></th>\n",
        "      <th></th>\n",
        "      <th></th>\n",
        "      <th></th>\n",
        "      <th></th>\n",
        "      <th></th>\n",
        "    </tr>\n",
        "  </thead>\n",
        "  <tbody>\n",
        "    <tr>\n",
        "      <th>ENST00000000233</th>\n",
        "      <td> 20.55380</td>\n",
        "      <td> 20.86010</td>\n",
        "      <td> 25.25250</td>\n",
        "      <td> 25.96400</td>\n",
        "      <td> 23.105200</td>\n",
        "      <td> 21.366600</td>\n",
        "      <td> 29.246700</td>\n",
        "      <td> 25.40760</td>\n",
        "      <td> 24.61470</td>\n",
        "      <td> 21.20460</td>\n",
        "      <td> 27.352100</td>\n",
        "      <td> 24.384600</td>\n",
        "      <td> 21.973300</td>\n",
        "      <td> 25.53900</td>\n",
        "      <td> 24.254800</td>\n",
        "      <td> 26.235700</td>\n",
        "      <td> 26.246400</td>\n",
        "      <td> 25.94420</td>\n",
        "      <td> 29.90290</td>\n",
        "      <td> 27.140600</td>\n",
        "      <td>...</td>\n",
        "    </tr>\n",
        "    <tr>\n",
        "      <th>ENST00000000412</th>\n",
        "      <td>  1.59334</td>\n",
        "      <td>  1.76706</td>\n",
        "      <td>  1.10425</td>\n",
        "      <td>  1.33226</td>\n",
        "      <td>  1.114890</td>\n",
        "      <td>  1.392770</td>\n",
        "      <td>  0.932029</td>\n",
        "      <td>  1.51774</td>\n",
        "      <td>  1.47602</td>\n",
        "      <td>  1.31284</td>\n",
        "      <td>  1.264040</td>\n",
        "      <td>  0.869896</td>\n",
        "      <td>  1.365400</td>\n",
        "      <td>  1.73550</td>\n",
        "      <td>  1.249180</td>\n",
        "      <td>  0.791075</td>\n",
        "      <td>  0.769859</td>\n",
        "      <td>  1.91354</td>\n",
        "      <td>  1.61659</td>\n",
        "      <td>  2.821730</td>\n",
        "      <td>...</td>\n",
        "    </tr>\n",
        "    <tr>\n",
        "      <th>ENST00000000442</th>\n",
        "      <td>  3.60050</td>\n",
        "      <td>  3.09446</td>\n",
        "      <td>  4.25433</td>\n",
        "      <td>  4.33687</td>\n",
        "      <td>  3.423970</td>\n",
        "      <td>  2.722790</td>\n",
        "      <td>  3.923850</td>\n",
        "      <td>  5.21975</td>\n",
        "      <td>  5.17038</td>\n",
        "      <td>  4.43820</td>\n",
        "      <td>  6.362950</td>\n",
        "      <td>  4.466010</td>\n",
        "      <td>  3.601240</td>\n",
        "      <td>  3.55568</td>\n",
        "      <td>  5.189510</td>\n",
        "      <td>  4.404170</td>\n",
        "      <td>  3.652660</td>\n",
        "      <td>  3.74222</td>\n",
        "      <td>  4.82086</td>\n",
        "      <td>  4.110590</td>\n",
        "      <td>...</td>\n",
        "    </tr>\n",
        "    <tr>\n",
        "      <th>ENST00000001008</th>\n",
        "      <td>  8.58479</td>\n",
        "      <td> 12.47440</td>\n",
        "      <td>  8.59497</td>\n",
        "      <td>  9.35794</td>\n",
        "      <td>  9.236940</td>\n",
        "      <td>  8.911100</td>\n",
        "      <td>  8.145990</td>\n",
        "      <td>  9.31432</td>\n",
        "      <td> 10.92890</td>\n",
        "      <td>  6.58350</td>\n",
        "      <td>  7.120080</td>\n",
        "      <td>  9.063640</td>\n",
        "      <td>  8.459880</td>\n",
        "      <td>  9.29021</td>\n",
        "      <td>  7.618970</td>\n",
        "      <td>  7.088040</td>\n",
        "      <td>  6.605010</td>\n",
        "      <td> 11.26840</td>\n",
        "      <td>  9.65871</td>\n",
        "      <td> 11.817500</td>\n",
        "      <td>...</td>\n",
        "    </tr>\n",
        "    <tr>\n",
        "      <th>ENST00000001146</th>\n",
        "      <td>  0.00000</td>\n",
        "      <td>  0.00000</td>\n",
        "      <td>  0.00000</td>\n",
        "      <td>  0.00000</td>\n",
        "      <td>  0.184054</td>\n",
        "      <td>  0.100293</td>\n",
        "      <td>  0.203864</td>\n",
        "      <td>  0.00000</td>\n",
        "      <td>  0.00000</td>\n",
        "      <td>  0.00000</td>\n",
        "      <td>  0.113113</td>\n",
        "      <td>  0.000000</td>\n",
        "      <td>  0.171656</td>\n",
        "      <td>  0.00000</td>\n",
        "      <td>  0.045012</td>\n",
        "      <td>  0.000000</td>\n",
        "      <td>  0.000000</td>\n",
        "      <td>  0.00000</td>\n",
        "      <td>  0.00000</td>\n",
        "      <td>  0.106597</td>\n",
        "      <td>...</td>\n",
        "    </tr>\n",
        "  </tbody>\n",
        "</table>\n",
        "<p>5 rows \u00d7 58 columns</p>\n",
        "</div>"
       ],
       "metadata": {},
       "output_type": "pyout",
       "prompt_number": 5,
       "text": [
        "                  SL32612   SL32613   SL32614   SL32615    SL32616    SL32617  \\\n",
        "ENST_ID                                                                         \n",
        "ENST00000000233  20.55380  20.86010  25.25250  25.96400  23.105200  21.366600   \n",
        "ENST00000000412   1.59334   1.76706   1.10425   1.33226   1.114890   1.392770   \n",
        "ENST00000000442   3.60050   3.09446   4.25433   4.33687   3.423970   2.722790   \n",
        "ENST00000001008   8.58479  12.47440   8.59497   9.35794   9.236940   8.911100   \n",
        "ENST00000001146   0.00000   0.00000   0.00000   0.00000   0.184054   0.100293   \n",
        "\n",
        "                   SL32618   SL32619   SL32620   SL32621    SL32622  \\\n",
        "ENST_ID                                                               \n",
        "ENST00000000233  29.246700  25.40760  24.61470  21.20460  27.352100   \n",
        "ENST00000000412   0.932029   1.51774   1.47602   1.31284   1.264040   \n",
        "ENST00000000442   3.923850   5.21975   5.17038   4.43820   6.362950   \n",
        "ENST00000001008   8.145990   9.31432  10.92890   6.58350   7.120080   \n",
        "ENST00000001146   0.203864   0.00000   0.00000   0.00000   0.113113   \n",
        "\n",
        "                   SL32623    SL32624   SL32625    SL32626    SL32627  \\\n",
        "ENST_ID                                                                 \n",
        "ENST00000000233  24.384600  21.973300  25.53900  24.254800  26.235700   \n",
        "ENST00000000412   0.869896   1.365400   1.73550   1.249180   0.791075   \n",
        "ENST00000000442   4.466010   3.601240   3.55568   5.189510   4.404170   \n",
        "ENST00000001008   9.063640   8.459880   9.29021   7.618970   7.088040   \n",
        "ENST00000001146   0.000000   0.171656   0.00000   0.045012   0.000000   \n",
        "\n",
        "                   SL32628   SL32629   SL32630    SL32631      \n",
        "ENST_ID                                                        \n",
        "ENST00000000233  26.246400  25.94420  29.90290  27.140600 ...  \n",
        "ENST00000000412   0.769859   1.91354   1.61659   2.821730 ...  \n",
        "ENST00000000442   3.652660   3.74222   4.82086   4.110590 ...  \n",
        "ENST00000001008   6.605010  11.26840   9.65871  11.817500 ...  \n",
        "ENST00000001146   0.000000   0.00000   0.00000   0.106597 ...  \n",
        "\n",
        "[5 rows x 58 columns]"
       ]
      }
     ],
     "prompt_number": 5
    },
    {
     "cell_type": "code",
     "collapsed": false,
     "input": [
      "#Y = expr.T[:,1:10000].values\n",
      "print Y.shape\n",
      "F = covariates.ix[expr.columns].values\n",
      "print F.shape\n",
      "k = 5\n",
      "lambda1 = 1\n",
      "lambda2 = 1\n",
      "lambda3 = 1\n",
      "iters = 100"
     ],
     "language": "python",
     "metadata": {},
     "outputs": [
      {
       "output_type": "stream",
       "stream": "stdout",
       "text": [
        "(58, 9999)\n",
        "(58, 6)\n"
       ]
      }
     ],
     "prompt_number": 19
    },
    {
     "cell_type": "code",
     "collapsed": false,
     "input": [
      "from scipy.io import savemat\n",
      "hcp_path = '/Users/boyko/Dropbox (ACE Lab)/ASD_Signature/BatchEffect/Hierarchical Covariates with Prior/code/'\n",
      "savemat(hcp_path+'sailfish_expression_covariates.mat', {'Y':Y, 'F':F})"
     ],
     "language": "python",
     "metadata": {},
     "outputs": [],
     "prompt_number": 20
    },
    {
     "cell_type": "code",
     "collapsed": false,
     "input": [
      "import pymatbridge as pymat"
     ],
     "language": "python",
     "metadata": {},
     "outputs": [],
     "prompt_number": 7
    },
    {
     "cell_type": "code",
     "collapsed": false,
     "input": [
      "ipy = get_ipython()\n",
      "pymat.load_ipython_extension(ipy)"
     ],
     "language": "python",
     "metadata": {},
     "outputs": [
      {
       "output_type": "stream",
       "stream": "stdout",
       "text": [
        "Starting MATLAB on ZMQ socket ipc:///tmp/pymatbridge\n",
        "Send 'exit' command to kill the server\n",
        "."
       ]
      },
      {
       "output_type": "stream",
       "stream": "stdout",
       "text": [
        "."
       ]
      },
      {
       "output_type": "stream",
       "stream": "stdout",
       "text": [
        "."
       ]
      },
      {
       "output_type": "stream",
       "stream": "stdout",
       "text": [
        "."
       ]
      },
      {
       "output_type": "stream",
       "stream": "stdout",
       "text": [
        "."
       ]
      },
      {
       "output_type": "stream",
       "stream": "stdout",
       "text": [
        "MATLAB started and connected!\n"
       ]
      }
     ],
     "prompt_number": 8
    },
    {
     "cell_type": "code",
     "collapsed": false,
     "input": [
      "%%matlab -i F,Y,k,lambda1,lambda2,lambda3,iters -o Z,B,U,o,error,error1,error2,dz,db,du\n",
      "addpath '/Users/boyko/Dropbox (ACE Lab)/ASD_Signature/BatchEffect/Hierarchical Covariates with Prior/code/'\n",
      "[Z,B,U,o,error,error1,error2,dz,db,du] = hidden_covariate_linear(F,Y,k,lambda1,lambda2,lambda3,iters);"
     ],
     "language": "python",
     "metadata": {},
     "outputs": [
      {
       "ename": "MatlabInterperterError",
       "evalue": "Failed to parse and evaluate line u\"addpath '/Users/boyko/Dropbox (ACE Lab)/ASD_Signature/BatchEffect/Hierarchical Covariates with Prior/code/'\\n[Z,B,U,o,error,error1,error2,dz,db,du] = hidden_covariate_linear(F,Y,k,lambda1,lambda2,lambda3,iters);\".\n Matlab error message: u\"Undefined function or method 'hidden_covariate_linear' for input arguments of type 'cell'.\"",
       "output_type": "pyerr",
       "traceback": [
        "\u001b[0;31m---------------------------------------------------------------------------\u001b[0m\n\u001b[0;31mMatlabInterperterError\u001b[0m                    Traceback (most recent call last)",
        "\u001b[0;32m<ipython-input-10-0052f9770f07>\u001b[0m in \u001b[0;36m<module>\u001b[0;34m()\u001b[0m\n\u001b[0;32m----> 1\u001b[0;31m \u001b[0mget_ipython\u001b[0m\u001b[0;34m(\u001b[0m\u001b[0;34m)\u001b[0m\u001b[0;34m.\u001b[0m\u001b[0mrun_cell_magic\u001b[0m\u001b[0;34m(\u001b[0m\u001b[0;34mu'matlab'\u001b[0m\u001b[0;34m,\u001b[0m \u001b[0;34mu'-i F,Y,k,lambda1,lambda2,lambda3,iters -o Z,B,U,o,error,error1,error2,dz,db,du'\u001b[0m\u001b[0;34m,\u001b[0m \u001b[0;34mu\"addpath '/Users/boyko/Dropbox (ACE Lab)/ASD_Signature/BatchEffect/Hierarchical Covariates with Prior/code/'\\n[Z,B,U,o,error,error1,error2,dz,db,du] = hidden_covariate_linear(F,Y,k,lambda1,lambda2,lambda3,iters);\"\u001b[0m\u001b[0;34m)\u001b[0m\u001b[0;34m\u001b[0m\u001b[0m\n\u001b[0m",
        "\u001b[0;32m/Users/boyko/anaconda/lib/python2.7/site-packages/IPython/core/interactiveshell.pyc\u001b[0m in \u001b[0;36mrun_cell_magic\u001b[0;34m(self, magic_name, line, cell)\u001b[0m\n\u001b[1;32m   2160\u001b[0m             \u001b[0mmagic_arg_s\u001b[0m \u001b[0;34m=\u001b[0m \u001b[0mself\u001b[0m\u001b[0;34m.\u001b[0m\u001b[0mvar_expand\u001b[0m\u001b[0;34m(\u001b[0m\u001b[0mline\u001b[0m\u001b[0;34m,\u001b[0m \u001b[0mstack_depth\u001b[0m\u001b[0;34m)\u001b[0m\u001b[0;34m\u001b[0m\u001b[0m\n\u001b[1;32m   2161\u001b[0m             \u001b[0;32mwith\u001b[0m \u001b[0mself\u001b[0m\u001b[0;34m.\u001b[0m\u001b[0mbuiltin_trap\u001b[0m\u001b[0;34m:\u001b[0m\u001b[0;34m\u001b[0m\u001b[0m\n\u001b[0;32m-> 2162\u001b[0;31m                 \u001b[0mresult\u001b[0m \u001b[0;34m=\u001b[0m \u001b[0mfn\u001b[0m\u001b[0;34m(\u001b[0m\u001b[0mmagic_arg_s\u001b[0m\u001b[0;34m,\u001b[0m \u001b[0mcell\u001b[0m\u001b[0;34m)\u001b[0m\u001b[0;34m\u001b[0m\u001b[0m\n\u001b[0m\u001b[1;32m   2163\u001b[0m             \u001b[0;32mreturn\u001b[0m \u001b[0mresult\u001b[0m\u001b[0;34m\u001b[0m\u001b[0m\n\u001b[1;32m   2164\u001b[0m \u001b[0;34m\u001b[0m\u001b[0m\n",
        "\u001b[0;32m/Users/boyko/anaconda/lib/python2.7/site-packages/pymatbridge/matlab_magic.pyc\u001b[0m in \u001b[0;36mmatlab\u001b[0;34m(self, line, cell, local_ns)\u001b[0m\n",
        "\u001b[0;32m/Users/boyko/anaconda/lib/python2.7/site-packages/IPython/core/magic.pyc\u001b[0m in \u001b[0;36m<lambda>\u001b[0;34m(f, *a, **k)\u001b[0m\n\u001b[1;32m    191\u001b[0m     \u001b[0;31m# but it's overkill for just that one bit of state.\u001b[0m\u001b[0;34m\u001b[0m\u001b[0;34m\u001b[0m\u001b[0m\n\u001b[1;32m    192\u001b[0m     \u001b[0;32mdef\u001b[0m \u001b[0mmagic_deco\u001b[0m\u001b[0;34m(\u001b[0m\u001b[0marg\u001b[0m\u001b[0;34m)\u001b[0m\u001b[0;34m:\u001b[0m\u001b[0;34m\u001b[0m\u001b[0m\n\u001b[0;32m--> 193\u001b[0;31m         \u001b[0mcall\u001b[0m \u001b[0;34m=\u001b[0m \u001b[0;32mlambda\u001b[0m \u001b[0mf\u001b[0m\u001b[0;34m,\u001b[0m \u001b[0;34m*\u001b[0m\u001b[0ma\u001b[0m\u001b[0;34m,\u001b[0m \u001b[0;34m**\u001b[0m\u001b[0mk\u001b[0m\u001b[0;34m:\u001b[0m \u001b[0mf\u001b[0m\u001b[0;34m(\u001b[0m\u001b[0;34m*\u001b[0m\u001b[0ma\u001b[0m\u001b[0;34m,\u001b[0m \u001b[0;34m**\u001b[0m\u001b[0mk\u001b[0m\u001b[0;34m)\u001b[0m\u001b[0;34m\u001b[0m\u001b[0m\n\u001b[0m\u001b[1;32m    194\u001b[0m \u001b[0;34m\u001b[0m\u001b[0m\n\u001b[1;32m    195\u001b[0m         \u001b[0;32mif\u001b[0m \u001b[0mcallable\u001b[0m\u001b[0;34m(\u001b[0m\u001b[0marg\u001b[0m\u001b[0;34m)\u001b[0m\u001b[0;34m:\u001b[0m\u001b[0;34m\u001b[0m\u001b[0m\n",
        "\u001b[0;32m/Users/boyko/anaconda/lib/python2.7/site-packages/pymatbridge/matlab_magic.pyc\u001b[0m in \u001b[0;36mmatlab\u001b[0;34m(self, line, cell, local_ns)\u001b[0m\n\u001b[1;32m    211\u001b[0m             \u001b[0;32melse\u001b[0m\u001b[0;34m:\u001b[0m\u001b[0;34m\u001b[0m\u001b[0m\n\u001b[1;32m    212\u001b[0m                 \u001b[0me_s\u001b[0m \u001b[0;34m=\u001b[0m \u001b[0;34m\"There was an error running the code:\\n %s\"\u001b[0m\u001b[0;34m%\u001b[0m\u001b[0mcode\u001b[0m\u001b[0;34m\u001b[0m\u001b[0m\n\u001b[0;32m--> 213\u001b[0;31m                 \u001b[0mresult_dict\u001b[0m \u001b[0;34m=\u001b[0m \u001b[0mself\u001b[0m\u001b[0;34m.\u001b[0m\u001b[0meval\u001b[0m\u001b[0;34m(\u001b[0m\u001b[0mcode\u001b[0m\u001b[0;34m)\u001b[0m\u001b[0;34m\u001b[0m\u001b[0m\n\u001b[0m\u001b[1;32m    214\u001b[0m         \u001b[0;32mexcept\u001b[0m \u001b[0mURLError\u001b[0m\u001b[0;34m:\u001b[0m\u001b[0;34m\u001b[0m\u001b[0m\n\u001b[1;32m    215\u001b[0m             \u001b[0me_s\u001b[0m \u001b[0;34m+=\u001b[0m \u001b[0;34m\"\\n-----------------------\"\u001b[0m\u001b[0;34m\u001b[0m\u001b[0m\n",
        "\u001b[0;32m/Users/boyko/anaconda/lib/python2.7/site-packages/pymatbridge/matlab_magic.pyc\u001b[0m in \u001b[0;36meval\u001b[0;34m(self, line)\u001b[0m\n\u001b[1;32m    118\u001b[0m \u001b[0;34m\u001b[0m\u001b[0m\n\u001b[1;32m    119\u001b[0m         \u001b[0;32mif\u001b[0m \u001b[0mrun_dict\u001b[0m\u001b[0;34m[\u001b[0m\u001b[0;34m'success'\u001b[0m\u001b[0;34m]\u001b[0m \u001b[0;34m==\u001b[0m \u001b[0;34m'false'\u001b[0m\u001b[0;34m:\u001b[0m\u001b[0;34m\u001b[0m\u001b[0m\n\u001b[0;32m--> 120\u001b[0;31m             \u001b[0;32mraise\u001b[0m \u001b[0mMatlabInterperterError\u001b[0m\u001b[0;34m(\u001b[0m\u001b[0mline\u001b[0m\u001b[0;34m,\u001b[0m \u001b[0mrun_dict\u001b[0m\u001b[0;34m[\u001b[0m\u001b[0;34m'content'\u001b[0m\u001b[0;34m]\u001b[0m\u001b[0;34m[\u001b[0m\u001b[0;34m'stdout'\u001b[0m\u001b[0;34m]\u001b[0m\u001b[0;34m)\u001b[0m\u001b[0;34m\u001b[0m\u001b[0m\n\u001b[0m\u001b[1;32m    121\u001b[0m \u001b[0;34m\u001b[0m\u001b[0m\n\u001b[1;32m    122\u001b[0m         \u001b[0;31m# This is the matlab stdout:\u001b[0m\u001b[0;34m\u001b[0m\u001b[0;34m\u001b[0m\u001b[0m\n",
        "\u001b[0;31mMatlabInterperterError\u001b[0m: Failed to parse and evaluate line u\"addpath '/Users/boyko/Dropbox (ACE Lab)/ASD_Signature/BatchEffect/Hierarchical Covariates with Prior/code/'\\n[Z,B,U,o,error,error1,error2,dz,db,du] = hidden_covariate_linear(F,Y,k,lambda1,lambda2,lambda3,iters);\".\n Matlab error message: u\"Undefined function or method 'hidden_covariate_linear' for input arguments of type 'cell'.\""
       ]
      }
     ],
     "prompt_number": 10
    },
    {
     "cell_type": "code",
     "collapsed": false,
     "input": [
      "print Z.shape\n",
      "print B.shape\n",
      "print U.shape\n",
      "print o"
     ],
     "language": "python",
     "metadata": {},
     "outputs": []
    },
    {
     "cell_type": "raw",
     "metadata": {},
     "source": [
      "% function [Z,B,U,o] = hidden_covariate_linear(F,Y,h,lambda,lambda2,lambda3,iter);\n",
      "%\n",
      "%\n",
      "% function [Z,B,U,o,error,error1,error2,dz,db,du] = hidden_covariate_linear(F,Y,h,lambda,lambda2,lambda3,iter);\n",
      "% input:\n",
      "%      F: a matrix nxk of known covariates, where n is the number of\n",
      "%      subjects and k is the number of known covariates. *must be standardize (columns have 0 mean and constant SS).\n",
      "%      Y: a matrix of nxg of expression data (must be standardized (columns\n",
      "%      scaled to have constant SS and mean 0). ** use standardize function to standardize F and Y.\n",
      "%      h: number of inferred hidden components (h is an integer)\n",
      "%      lambda, lambda2, lambda3 are model parameters\n",
      "%      (optional) iter: number of iterations (default = 100);\n",
      "%\n",
      "%      note: h>0, lambda>0, lambda2>0, lambda3>0 must be set by the user based on the data at hand. one can set these values\n",
      "%      using cross-validation, by evaluating the \"performance\" of the  resulting residual data on a desired task.\n",
      "%      typically, if lambda>5, then hidden factors match the known covariates closely. \n",
      "%\n",
      "% objective:\n",
      "%\n",
      "% this function solves the following problem:\n",
      "% argmin_{Z,B,U}   ||Y-Z*B||_2 + \\lambda*||Z-F*U||_2 + \\lambda2*||B||_2 + \\lambda_3||U||_2\n",
      "%\n",
      "% output:\n",
      "%      Z: matrix of hidden components, dimensionality: nxh\n",
      "%      B: matrix of effects of hidden components, dimensionality: hxg\n",
      "%      U: matrix of effects of known components, dimensionality: dxd\n",
      "%      o: value of objective function on consecutive iterations.\n",
      "%\n",
      "% to use the residual data: Residual = Y - Z*B\n",
      "%\n",
      "\n"
     ]
    },
    {
     "cell_type": "code",
     "collapsed": false,
     "input": [
      "import numpy as np\n",
      "from np.linalg import norm,inv,lstsq\n",
      "\n",
      "def hcp(F,Y,h,l1,l2,l3,iters):\n",
      "\n",
      "    if iters == None:\n",
      "        iter = 100\n",
      "    \n",
      "    l0 = 1\n",
      "    tol = 10.0**-6\n",
      "\n",
      "    (n1,k) = F.size\n",
      "    (n2,g) = Y.size\n",
      "\n",
      "    Z = np.matrix(n1,h)\n",
      "    B = np.random.rand(h,g)\n",
      "    U = np.matrix(k,h)\n",
      "    obj = np.array(iters)\n",
      "    \n",
      "    assert(n1==n2)\n",
      "    \n",
      "    if (h<1 or l1<1e-6 or l2<1e-6 or l3<1e-6 ):\n",
      "        print 'lambda, lambda2, lambda3 must be positive \\\n",
      "                and/or h must be an integer');\n",
      "    \n",
      "    delta_epsilon = tol * np.eye(h)\n",
      "    \n",
      "    for ii in range(iters):\n",
      "        obj(ii) = l0*norm(Y-Z*B) + l1* norm(Z-F*U) + l2* norm(B) + l3* norm(U)\n",
      "        \n",
      "        Z = (Y*B.transpose() + l1*F*U) * \n",
      "            inv(B*B.transpose() + l1*np.eye(h))\n",
      "        \n",
      "        B = lstsq((Z.tranpose()*Z + l2*np.eye(h)), Z.tranpose())*Y\n",
      "        \n",
      "        U = lstsq(F.transpose()*F*l1 + l3*np.eye(k), l1*F.transpose()*Z)\n",
      "        \n",
      "        if ii>0:\n",
      "            if np.divide(np.fabs(obj(ii)-obj(ii-1)), obj(ii)) < tol:\n",
      "                 break\n",
      "    \n",
      "    e0 = norm(Y-Z*B)/norm(Y) + norm(Z-F*U)/norm(F*U)\n",
      "    e1 = norm(Y-Z*B)/norm(Y)\n",
      "    e2 = norm(Z-F*U)/norm(F*U)\n",
      "\n",
      "    dz = Z*(B*B.transpose() + l1*np.eye(h)) - (Y*B.transpose() + l1*F*U)\n",
      "    db = (Z.tranpose()*Z + l2*np.eye(h))*B - Z.tranpose()*Y\n",
      "    du = (F.tranpose()*F*l1 + l3*np.eye(k))*U - l1*F.tranpose()*Z\n",
      "    \n",
      "    return (Z,B,U,o)"
     ],
     "language": "python",
     "metadata": {},
     "outputs": []
    },
    {
     "cell_type": "code",
     "collapsed": false,
     "input": [
      "from scipy.io import loadmat\n",
      "hcp_path = '/Users/boyko/Dropbox (ACE Lab)/RNA Seq data (1)/BatchEffect/Hierarchical Covariates with Prior/code/'\n",
      "res_expr = loadmat(hcp_path+'april_expression_covariates_s303_h30_i1000.mat', variable_names = ['Res'])['Res']"
     ],
     "language": "python",
     "metadata": {},
     "outputs": [
      {
       "ename": "ValueError",
       "evalue": "Did not read any bytes",
       "output_type": "pyerr",
       "traceback": [
        "\u001b[0;31m---------------------------------------------------------------------------\u001b[0m\n\u001b[0;31mValueError\u001b[0m                                Traceback (most recent call last)",
        "\u001b[0;32m<ipython-input-6-a90652b50098>\u001b[0m in \u001b[0;36m<module>\u001b[0;34m()\u001b[0m\n\u001b[1;32m      1\u001b[0m \u001b[0;32mfrom\u001b[0m \u001b[0mscipy\u001b[0m\u001b[0;34m.\u001b[0m\u001b[0mio\u001b[0m \u001b[0;32mimport\u001b[0m \u001b[0mloadmat\u001b[0m\u001b[0;34m\u001b[0m\u001b[0m\n\u001b[1;32m      2\u001b[0m \u001b[0mhcp_path\u001b[0m \u001b[0;34m=\u001b[0m \u001b[0;34m'/Users/boyko/Dropbox (ACE Lab)/RNA Seq data (1)/BatchEffect/Hierarchical Covariates with Prior/code/'\u001b[0m\u001b[0;34m\u001b[0m\u001b[0m\n\u001b[0;32m----> 3\u001b[0;31m \u001b[0mres_expr\u001b[0m \u001b[0;34m=\u001b[0m \u001b[0mloadmat\u001b[0m\u001b[0;34m(\u001b[0m\u001b[0mhcp_path\u001b[0m\u001b[0;34m+\u001b[0m\u001b[0;34m'april_expression_covariates_s303_h30_i1000.mat'\u001b[0m\u001b[0;34m,\u001b[0m \u001b[0mvariable_names\u001b[0m \u001b[0;34m=\u001b[0m \u001b[0;34m[\u001b[0m\u001b[0;34m'Res'\u001b[0m\u001b[0;34m]\u001b[0m\u001b[0;34m)\u001b[0m\u001b[0;34m[\u001b[0m\u001b[0;34m'Res'\u001b[0m\u001b[0;34m]\u001b[0m\u001b[0;34m\u001b[0m\u001b[0m\n\u001b[0m",
        "\u001b[0;32m/Users/boyko/anaconda/lib/python2.7/site-packages/scipy/io/matlab/mio.pyc\u001b[0m in \u001b[0;36mloadmat\u001b[0;34m(file_name, mdict, appendmat, **kwargs)\u001b[0m\n\u001b[1;32m    130\u001b[0m     \u001b[0mvariable_names\u001b[0m \u001b[0;34m=\u001b[0m \u001b[0mkwargs\u001b[0m\u001b[0;34m.\u001b[0m\u001b[0mpop\u001b[0m\u001b[0;34m(\u001b[0m\u001b[0;34m'variable_names'\u001b[0m\u001b[0;34m,\u001b[0m \u001b[0mNone\u001b[0m\u001b[0;34m)\u001b[0m\u001b[0;34m\u001b[0m\u001b[0m\n\u001b[1;32m    131\u001b[0m     \u001b[0mMR\u001b[0m \u001b[0;34m=\u001b[0m \u001b[0mmat_reader_factory\u001b[0m\u001b[0;34m(\u001b[0m\u001b[0mfile_name\u001b[0m\u001b[0;34m,\u001b[0m \u001b[0mappendmat\u001b[0m\u001b[0;34m,\u001b[0m \u001b[0;34m**\u001b[0m\u001b[0mkwargs\u001b[0m\u001b[0;34m)\u001b[0m\u001b[0;34m\u001b[0m\u001b[0m\n\u001b[0;32m--> 132\u001b[0;31m     \u001b[0mmatfile_dict\u001b[0m \u001b[0;34m=\u001b[0m \u001b[0mMR\u001b[0m\u001b[0;34m.\u001b[0m\u001b[0mget_variables\u001b[0m\u001b[0;34m(\u001b[0m\u001b[0mvariable_names\u001b[0m\u001b[0;34m)\u001b[0m\u001b[0;34m\u001b[0m\u001b[0m\n\u001b[0m\u001b[1;32m    133\u001b[0m     \u001b[0;32mif\u001b[0m \u001b[0mmdict\u001b[0m \u001b[0;32mis\u001b[0m \u001b[0;32mnot\u001b[0m \u001b[0mNone\u001b[0m\u001b[0;34m:\u001b[0m\u001b[0;34m\u001b[0m\u001b[0m\n\u001b[1;32m    134\u001b[0m         \u001b[0mmdict\u001b[0m\u001b[0;34m.\u001b[0m\u001b[0mupdate\u001b[0m\u001b[0;34m(\u001b[0m\u001b[0mmatfile_dict\u001b[0m\u001b[0;34m)\u001b[0m\u001b[0;34m\u001b[0m\u001b[0m\n",
        "\u001b[0;32m/Users/boyko/anaconda/lib/python2.7/site-packages/scipy/io/matlab/mio5.pyc\u001b[0m in \u001b[0;36mget_variables\u001b[0;34m(self, variable_names)\u001b[0m\n\u001b[1;32m    270\u001b[0m         \u001b[0mmdict\u001b[0m\u001b[0;34m[\u001b[0m\u001b[0;34m'__globals__'\u001b[0m\u001b[0;34m]\u001b[0m \u001b[0;34m=\u001b[0m \u001b[0;34m[\u001b[0m\u001b[0;34m]\u001b[0m\u001b[0;34m\u001b[0m\u001b[0m\n\u001b[1;32m    271\u001b[0m         \u001b[0;32mwhile\u001b[0m \u001b[0;32mnot\u001b[0m \u001b[0mself\u001b[0m\u001b[0;34m.\u001b[0m\u001b[0mend_of_stream\u001b[0m\u001b[0;34m(\u001b[0m\u001b[0;34m)\u001b[0m\u001b[0;34m:\u001b[0m\u001b[0;34m\u001b[0m\u001b[0m\n\u001b[0;32m--> 272\u001b[0;31m             \u001b[0mhdr\u001b[0m\u001b[0;34m,\u001b[0m \u001b[0mnext_position\u001b[0m \u001b[0;34m=\u001b[0m \u001b[0mself\u001b[0m\u001b[0;34m.\u001b[0m\u001b[0mread_var_header\u001b[0m\u001b[0;34m(\u001b[0m\u001b[0;34m)\u001b[0m\u001b[0;34m\u001b[0m\u001b[0m\n\u001b[0m\u001b[1;32m    273\u001b[0m             \u001b[0mname\u001b[0m \u001b[0;34m=\u001b[0m \u001b[0masstr\u001b[0m\u001b[0;34m(\u001b[0m\u001b[0mhdr\u001b[0m\u001b[0;34m.\u001b[0m\u001b[0mname\u001b[0m\u001b[0;34m)\u001b[0m\u001b[0;34m\u001b[0m\u001b[0m\n\u001b[1;32m    274\u001b[0m             \u001b[0;32mif\u001b[0m \u001b[0mname\u001b[0m \u001b[0;32min\u001b[0m \u001b[0mmdict\u001b[0m\u001b[0;34m:\u001b[0m\u001b[0;34m\u001b[0m\u001b[0m\n",
        "\u001b[0;32m/Users/boyko/anaconda/lib/python2.7/site-packages/scipy/io/matlab/mio5.pyc\u001b[0m in \u001b[0;36mread_var_header\u001b[0;34m(self)\u001b[0m\n\u001b[1;32m    217\u001b[0m         \u001b[0mmdtype\u001b[0m\u001b[0;34m,\u001b[0m \u001b[0mbyte_count\u001b[0m \u001b[0;34m=\u001b[0m \u001b[0mself\u001b[0m\u001b[0;34m.\u001b[0m\u001b[0m_file_reader\u001b[0m\u001b[0;34m.\u001b[0m\u001b[0mread_full_tag\u001b[0m\u001b[0;34m(\u001b[0m\u001b[0;34m)\u001b[0m\u001b[0;34m\u001b[0m\u001b[0m\n\u001b[1;32m    218\u001b[0m         \u001b[0;32mif\u001b[0m \u001b[0;32mnot\u001b[0m \u001b[0mbyte_count\u001b[0m \u001b[0;34m>\u001b[0m \u001b[0;36m0\u001b[0m\u001b[0;34m:\u001b[0m\u001b[0;34m\u001b[0m\u001b[0m\n\u001b[0;32m--> 219\u001b[0;31m             \u001b[0;32mraise\u001b[0m \u001b[0mValueError\u001b[0m\u001b[0;34m(\u001b[0m\u001b[0;34m\"Did not read any bytes\"\u001b[0m\u001b[0;34m)\u001b[0m\u001b[0;34m\u001b[0m\u001b[0m\n\u001b[0m\u001b[1;32m    220\u001b[0m         \u001b[0mnext_pos\u001b[0m \u001b[0;34m=\u001b[0m \u001b[0mself\u001b[0m\u001b[0;34m.\u001b[0m\u001b[0mmat_stream\u001b[0m\u001b[0;34m.\u001b[0m\u001b[0mtell\u001b[0m\u001b[0;34m(\u001b[0m\u001b[0;34m)\u001b[0m \u001b[0;34m+\u001b[0m \u001b[0mbyte_count\u001b[0m\u001b[0;34m\u001b[0m\u001b[0m\n\u001b[1;32m    221\u001b[0m         \u001b[0;32mif\u001b[0m \u001b[0mmdtype\u001b[0m \u001b[0;34m==\u001b[0m \u001b[0mmiCOMPRESSED\u001b[0m\u001b[0;34m:\u001b[0m\u001b[0;34m\u001b[0m\u001b[0m\n",
        "\u001b[0;31mValueError\u001b[0m: Did not read any bytes"
       ]
      }
     ],
     "prompt_number": 6
    },
    {
     "cell_type": "code",
     "collapsed": false,
     "input": [
      "res_expr_df = \n",
      "res_expr_df = DataFrame(data=res_expr, index=expr.columns, columns=expr.index)\n",
      "res_expr_df.shape"
     ],
     "language": "python",
     "metadata": {},
     "outputs": [
      {
       "ename": "NameError",
       "evalue": "name 'expr' is not defined",
       "output_type": "pyerr",
       "traceback": [
        "\u001b[0;31m---------------------------------------------------------------------------\u001b[0m\n\u001b[0;31mNameError\u001b[0m                                 Traceback (most recent call last)",
        "\u001b[0;32m<ipython-input-9-e27663c970cb>\u001b[0m in \u001b[0;36m<module>\u001b[0;34m()\u001b[0m\n\u001b[0;32m----> 1\u001b[0;31m \u001b[0mres_expr_df\u001b[0m \u001b[0;34m=\u001b[0m \u001b[0mDataFrame\u001b[0m\u001b[0;34m(\u001b[0m\u001b[0mdata\u001b[0m\u001b[0;34m=\u001b[0m\u001b[0mres_expr\u001b[0m\u001b[0;34m,\u001b[0m \u001b[0mindex\u001b[0m\u001b[0;34m=\u001b[0m\u001b[0mexpr\u001b[0m\u001b[0;34m.\u001b[0m\u001b[0mcolumns\u001b[0m\u001b[0;34m,\u001b[0m \u001b[0mcolumns\u001b[0m\u001b[0;34m=\u001b[0m\u001b[0mexpr\u001b[0m\u001b[0;34m.\u001b[0m\u001b[0mindex\u001b[0m\u001b[0;34m)\u001b[0m\u001b[0;34m\u001b[0m\u001b[0m\n\u001b[0m\u001b[1;32m      2\u001b[0m \u001b[0mres_expr_df\u001b[0m\u001b[0;34m.\u001b[0m\u001b[0mshape\u001b[0m\u001b[0;34m\u001b[0m\u001b[0m\n",
        "\u001b[0;31mNameError\u001b[0m: name 'expr' is not defined"
       ]
      }
     ],
     "prompt_number": 9
    }
   ],
   "metadata": {}
  }
 ]
}